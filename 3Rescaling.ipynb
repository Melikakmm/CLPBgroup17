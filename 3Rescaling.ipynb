{
  "nbformat": 4,
  "nbformat_minor": 0,
  "metadata": {
    "colab": {
      "name": "Untitled6.ipynb",
      "provenance": [],
      "authorship_tag": "ABX9TyPDXBj0XfeFrvIZ7DSo80s6",
      "include_colab_link": true
    },
    "kernelspec": {
      "name": "python3",
      "display_name": "Python 3"
    },
    "language_info": {
      "name": "python"
    }
  },
  "cells": [
    {
      "cell_type": "markdown",
      "metadata": {
        "id": "view-in-github",
        "colab_type": "text"
      },
      "source": [
        "<a href=\"https://colab.research.google.com/github/Melikakmm/CLPBgroup17/blob/main/3Rescaling.ipynb\" target=\"_parent\"><img src=\"https://colab.research.google.com/assets/colab-badge.svg\" alt=\"Open In Colab\"/></a>"
      ]
    },
    {
      "cell_type": "code",
      "execution_count": null,
      "metadata": {
        "id": "uSmYvIX5WA-u"
      },
      "outputs": [],
      "source": [
        "#ans4\n",
        "\n",
        "#Standardization(first method)\n",
        "def Rescale(x):\n",
        "    # return (x - x.mean())/np.sqrt(x.var())\n",
        "    return x/(B/2)\n",
        "x_train1 = Rescale(x_train)\n",
        "x_valid1 = Rescale(x_valid)\n",
        "\n",
        "#min_max rescaling(secodn method)\n",
        "def Rescale2(x):\n",
        "  return (x - np.max(x))/( np.max(x) - np.min(x))\n",
        "x_train2 = Rescale2(x_train)\n",
        "x_valid2 = Rescale2(x_valid)\n",
        "\n",
        "\n",
        "# x/ max(in a column)(third method)\n",
        "def Rescale3(x):\n",
        "  X= x.copy()\n",
        "  for i in [0,1]:\n",
        "    for j in range(len(X)):\n",
        "      if i == 0:\n",
        "        X[j, i] = X[j, i] / np.max(X[:, i])\n",
        "      else :\n",
        "        X[j, i] = X[j, i] / np. max(X[:, i])\n",
        "  return X\n",
        "\n",
        "x_train3 = Rescale3(x_train)\n",
        "x_valid3 = Rescale3(x_valid)\n",
        "\n",
        "\n",
        "fig, ax = plt.subplots(1, 3, figsize = (300, 150))\n",
        "ax[0].hist(x_train1, bins = 500)\n",
        "ax[0].set_title('first Rescaling method')\n",
        "ax[1].hist(x_train2, bins = 500)\n",
        "ax[1].set_title('second Rescalig method')\n",
        "ax[2].hist(x_train3, bins = 500)\n",
        "ax[2].set_title('third Rescaling method')\n",
        "plt.show()\n",
        "\n",
        "\n",
        "print('volatility of first : ', np.std(x_train1))\n",
        "print('volatility of second : ', np.std(x_train2))\n",
        "print('volatility of third : ', np.std(x_train3))\n",
        "\n",
        "print('\\n', 'the best choice of rescaling for this amount of data is the second')"
      ]
    }
  ]
}