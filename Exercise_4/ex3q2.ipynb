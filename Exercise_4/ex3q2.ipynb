{
  "nbformat": 4,
  "nbformat_minor": 0,
  "metadata": {
    "colab": {
      "name": "ex3q2.ipynb",
      "provenance": [],
      "authorship_tag": "ABX9TyNMAyup3KhJqLAzCHd5LxIK",
      "include_colab_link": true
    },
    "kernelspec": {
      "name": "python3",
      "display_name": "Python 3"
    },
    "language_info": {
      "name": "python"
    }
  },
  "cells": [
    {
      "cell_type": "markdown",
      "metadata": {
        "id": "view-in-github",
        "colab_type": "text"
      },
      "source": [
        "<a href=\"https://colab.research.google.com/github/waltermartemucci/CLPBgroup17/blob/main/Exercise_4/ex3q2.ipynb\" target=\"_parent\"><img src=\"https://colab.research.google.com/assets/colab-badge.svg\" alt=\"Open In Colab\"/></a>"
      ]
    },
    {
      "cell_type": "code",
      "execution_count": 1,
      "metadata": {
        "colab": {
          "base_uri": "https://localhost:8080/",
          "height": 428
        },
        "id": "KIHmUTa8yWcJ",
        "outputId": "54650bb6-c7d2-484b-859f-549e892ab5a5"
      },
      "outputs": [
        {
          "output_type": "stream",
          "name": "stderr",
          "text": [
            "/usr/local/lib/python3.7/dist-packages/statsmodels/tools/_testing.py:19: FutureWarning: pandas.util.testing is deprecated. Use the functions in the public API at pandas.testing instead.\n",
            "  import pandas.util.testing as tm\n"
          ]
        },
        {
          "output_type": "error",
          "ename": "ModuleNotFoundError",
          "evalue": "ignored",
          "traceback": [
            "\u001b[0;31m---------------------------------------------------------------------------\u001b[0m",
            "\u001b[0;31mModuleNotFoundError\u001b[0m                       Traceback (most recent call last)",
            "\u001b[0;32m<ipython-input-1-ea2ddaa66a09>\u001b[0m in \u001b[0;36m<module>\u001b[0;34m()\u001b[0m\n\u001b[1;32m     18\u001b[0m \u001b[0;31m#classes for grid search and cross-validation, function for splitting data and evaluating models\u001b[0m\u001b[0;34m\u001b[0m\u001b[0;34m\u001b[0m\u001b[0;34m\u001b[0m\u001b[0m\n\u001b[1;32m     19\u001b[0m \u001b[0;32mfrom\u001b[0m \u001b[0msklearn\u001b[0m\u001b[0;34m.\u001b[0m\u001b[0mmodel_selection\u001b[0m \u001b[0;32mimport\u001b[0m \u001b[0mGridSearchCV\u001b[0m\u001b[0;34m,\u001b[0m\u001b[0mRandomizedSearchCV\u001b[0m\u001b[0;34m,\u001b[0m\u001b[0mtrain_test_split\u001b[0m\u001b[0;34m\u001b[0m\u001b[0;34m\u001b[0m\u001b[0m\n\u001b[0;32m---> 20\u001b[0;31m \u001b[0;32mfrom\u001b[0m \u001b[0mskopt\u001b[0m \u001b[0;32mimport\u001b[0m \u001b[0mBayesSearchCV\u001b[0m\u001b[0;34m\u001b[0m\u001b[0;34m\u001b[0m\u001b[0m\n\u001b[0m\u001b[1;32m     21\u001b[0m \u001b[0;32mfrom\u001b[0m \u001b[0msklearn\u001b[0m\u001b[0;34m.\u001b[0m\u001b[0mmetrics\u001b[0m \u001b[0;32mimport\u001b[0m \u001b[0maccuracy_score\u001b[0m\u001b[0;34m,\u001b[0m\u001b[0mf1_score\u001b[0m\u001b[0;34m,\u001b[0m\u001b[0mroc_auc_score\u001b[0m\u001b[0;34m,\u001b[0m\u001b[0mconfusion_matrix\u001b[0m\u001b[0;34m,\u001b[0m\u001b[0mroc_curve\u001b[0m\u001b[0;34m\u001b[0m\u001b[0;34m\u001b[0m\u001b[0m\n\u001b[1;32m     22\u001b[0m \u001b[0;34m\u001b[0m\u001b[0m\n",
            "\u001b[0;31mModuleNotFoundError\u001b[0m: No module named 'skopt'",
            "",
            "\u001b[0;31m---------------------------------------------------------------------------\u001b[0;32m\nNOTE: If your import is failing due to a missing package, you can\nmanually install dependencies using either !pip or !apt.\n\nTo view examples of installing some common dependencies, click the\n\"Open Examples\" button below.\n\u001b[0;31m---------------------------------------------------------------------------\u001b[0m\n"
          ],
          "errorDetails": {
            "actions": [
              {
                "action": "open_url",
                "actionText": "Open Examples",
                "url": "/notebooks/snippets/importing_libraries.ipynb"
              }
            ]
          }
        }
      ],
      "source": [
        "#creating deepcopy of model instances\n",
        "from copy import deepcopy\n",
        "\n",
        "#array manipulations\n",
        "import numpy as np\n",
        "\n",
        "#dataframe and its manipulations\n",
        "import pandas as pd\n",
        "\n",
        "#plotting\n",
        "import matplotlib as mpl\n",
        "import matplotlib.pyplot as plt\n",
        "import seaborn as sns\n",
        "\n",
        "#selected plotting functions\n",
        "from statsmodels.graphics.tsaplots import plot_acf,plot_pacf\n",
        "\n",
        "#classes for grid search and cross-validation, function for splitting data and evaluating models\n",
        "from sklearn.model_selection import GridSearchCV,RandomizedSearchCV,train_test_split\n",
        "from skopt import BayesSearchCV\n",
        "from sklearn.metrics import accuracy_score,f1_score,roc_auc_score,confusion_matrix,roc_curve\n",
        "\n",
        "#XGBoost library\n",
        "import xgboost as xgb\n",
        "\n",
        "#Python standard libraries\n",
        "import time\n",
        "import warnings\n",
        "\n",
        "#setting default resolution of figures\n",
        "mpl.rcParams['figure.dpi'] = 200\n",
        "\n",
        "from sklearn.model_selection import train_test_split\n"
      ]
    },
    {
      "cell_type": "code",
      "source": [
        "pip install tsfresh\n",
        "\n",
        "import numpy as np\n",
        "import pandas as pd\n",
        "import matplotlib.pyplot as plt\n",
        "plt.rcParams['font.size'] = 14\n",
        "from tsfresh import extract_features\n",
        "\n",
        "from xgboost import XGBClassifier, plot_tree\n",
        "\n",
        "%run /content/plot.py"
      ],
      "metadata": {
        "id": "Qikfuj6eymw9"
      },
      "execution_count": null,
      "outputs": []
    },
    {
      "cell_type": "code",
      "source": [
        "#read data\n",
        "\n",
        "str0 = 'ts_L60_Z12_A500_DX50_bias5_N10000.dat'\n",
        "fnamex='DATA/x_'+str0\n",
        "fnamey='DATA/y_'+str0\n",
        "\n",
        "x = np.loadtxt(fnamex, delimiter=\" \",dtype=float)\n",
        "N,L = len(x), len(x[0])\n",
        "\n",
        "Show_data(x,L,\"original data\")\n",
        "\n",
        "# note: here it does not need to be converted to the 3-bit version, a label remains y[i]=0,1,2\n",
        "y = np.loadtxt(fnamey, dtype=int)\n",
        "n_class = 3    #  = len(np.unique(y))\n",
        "print('data: ',N)"
      ],
      "metadata": {
        "id": "Tvjx7jD9ycuG"
      },
      "execution_count": null,
      "outputs": []
    },
    {
      "cell_type": "code",
      "source": [
        "#load data into dataframe\n",
        "df_x = pd.read_csv('DATA/x_ts_L60_Z12_A500_DX50_bias5_N10000.dat',\n",
        "                         header=None, sep='\\s\\s+', engine='python')\n",
        "df_y = pd.read_csv('DATA/y_ts_L60_Z12_A500_DX50_bias5_N10000.dat',\n",
        "                         header=None, sep='\\s\\s+', engine='python')\n",
        "#dropping id columns\n",
        "df_x.drop(df_x.columns[-1], axis=1, inplace=True)\n",
        "df_y.drop(df_y.columns[-1], axis=1, inplace=True)\n",
        "#checking x and data types\n",
        "df_x.info()\n",
        "df_y.info()"
      ],
      "metadata": {
        "id": "ijUThzXHznms"
      },
      "execution_count": null,
      "outputs": []
    },
    {
      "cell_type": "code",
      "source": [
        "#replace non interpretable values with zeroes\n",
        "df_x.loc[df_x[lambda x: x == '?'].any(axis=1), df_x[lambda x: x == '?'].any(axis=0)]\n",
        "df_x.replace(to_replace='?', value=0, inplace=True)\n",
        "\n"
      ],
      "metadata": {
        "id": "tJuYePhm0K3K"
      },
      "execution_count": null,
      "outputs": []
    },
    {
      "cell_type": "code",
      "source": [
        "#checking autocorrelations, whether data are time series\n",
        "f, axes = plt.subplots(29,2,figsize=(18,180))\n",
        "for i,ax in enumerate(axes):\n",
        "    plot_acf(df_train.iloc[:,i], zero=False, ax=ax[0])\n",
        "    plot_pacf(df_train.iloc[:,i], zero=False, ax=ax[1])\n",
        "plt.show()"
      ],
      "metadata": {
        "id": "ehaF_Tm84-5a"
      },
      "execution_count": null,
      "outputs": []
    },
    {
      "cell_type": "code",
      "source": [
        "#split train and test\n",
        "#train test split with randomization performed (although randomization is not necessary)\n",
        "X_train, X_test, y_train, y_test = train_test_split(df_train.iloc[:,1:], df_train.iloc[:,:1], test_size=0.2, random_state=122, stratify=df_train.iloc[:,:1])"
      ],
      "metadata": {
        "id": "8Hn84n4Q5G_g"
      },
      "execution_count": null,
      "outputs": []
    }
  ]
}